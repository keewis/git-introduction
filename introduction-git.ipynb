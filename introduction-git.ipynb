{
 "cells": [
  {
   "attachments": {},
   "cell_type": "raw",
   "id": "0",
   "metadata": {},
   "source": [
    "important concepts:\n",
    "- commits\n",
    "- branches and tags\n",
    "- staging area: git add / git rm --cached\n",
    "- stash\n",
    "- remotes + forges (gitlab, github)\n",
    "\n",
    "configuration files:\n",
    "- .gitignore\n",
    "\n",
    "most important commands:\n",
    "- git status\n",
    "- git help <command>\n",
    "- git log / git show\n",
    "- git branch / git switch / git merge\n",
    "- git reset / git cherry-pick / git revert\n",
    "- git rebase\n",
    "- pre-commit"
   ]
  },
  {
   "cell_type": "code",
   "execution_count": null,
   "id": "1",
   "metadata": {},
   "outputs": [],
   "source": [
    "rm -rf repository"
   ]
  },
  {
   "cell_type": "markdown",
   "id": "2",
   "metadata": {},
   "source": [
    "# introduction to `git`\n",
    "\n",
    "`git` – and **v**ersion **c**ontrol **s**ystems (VCS) in general – remember the changes of files in \"commits\", which contain metadata and a \"diff\", the changes between two versions of a file.\n",
    "\n",
    "for two versions of the same file, a set of differences can be computed. These differences are called \"diff\", and applying the diff to a file is called \"to patch\".\n",
    "\n",
    "Each commit is also uniquely identified by the commit hash, which is a mathematical summary of the changes. An example for such a hash is `ded105a62b9d78717f8dc64652e3903190b585dd`.\n",
    "\n",
    "Since hash values are not easy to remember and type, there are two forms of human-readable labels: tags, or static labels, and branches, or dynamic labels. For example, in the following graph:\n",
    "\n",
    "```mermaid\n",
    "gitGraph\n",
    "    commit\n",
    "    commit\n",
    "    branch feature-branch\n",
    "    checkout main\n",
    "    commit\n",
    "    checkout feature-branch\n",
    "    commit\n",
    "    commit\n",
    "    branch feature-branch2\n",
    "    commit\n",
    "    commit\n",
    "    checkout main\n",
    "    merge feature-branch\n",
    "    commit tag: \"v0.3.1\"\n",
    "    checkout feature-branch2\n",
    "    merge main\n",
    "    commit\n",
    "    checkout main\n",
    "    commit\n",
    "```\n",
    "\n",
    "`main`, `feature-branch` and `feature-branch2` are branches (the white nodes are merge commits with multiple parents), and `v0.3.1` is a tag.\n",
    "\n",
    "For more extensive explanations see the official [Git Book (website)](https://git-scm.com/book/en/v2).\n",
    "\n",
    "With all that in mind, let's start by creating a repository:"
   ]
  },
  {
   "cell_type": "markdown",
   "id": "3",
   "metadata": {},
   "source": [
    "## creating a repository\n",
    "\n",
    "Repositories can be created using two methods:\n",
    "- if we want to create a new repository: `git init`\n",
    "- if we want to help with a repository that already exists: `git clone`"
   ]
  },
  {
   "cell_type": "markdown",
   "id": "4",
   "metadata": {},
   "source": [
    "### repository initialization"
   ]
  },
  {
   "cell_type": "code",
   "execution_count": null,
   "id": "5",
   "metadata": {},
   "outputs": [],
   "source": [
    "mkdir repository\n",
    "cd repository"
   ]
  },
  {
   "cell_type": "code",
   "execution_count": null,
   "id": "6",
   "metadata": {},
   "outputs": [],
   "source": [
    "git init\n",
    "# or `git init .`"
   ]
  },
  {
   "cell_type": "markdown",
   "id": "7",
   "metadata": {},
   "source": [
    "we can also do the same thing with\n",
    "```bash\n",
    "git init repository\n",
    "cd repository\n",
    "```"
   ]
  },
  {
   "cell_type": "markdown",
   "id": "8",
   "metadata": {},
   "source": [
    "Next, we need to configure the repository: since git was designed to allow collaboration with other people, we need to tell `git` the name and email address so it knows who authored what. This information will be used to fill in the author and the (last) committer's information of a commit (we'll see what this is used for in the next section).\n",
    "\n",
    "To do this, we use the `git config` command.\n",
    "\n",
    ":::{note}\n",
    "\n",
    "We're using the `--local` flag for `git config`. This flag, together with `--global`, `--system`, and `-f` / `--file`, controls the configuration file we write to:\n",
    "- `--local` selects `.git/config`\n",
    "- `--global` selects `~/.gitconfig`\n",
    "- `--system` selects `/etc/gitconfig`\n",
    "- `-f` / `--file` allow specifying a custom location\n",
    "\n",
    "`--local` is the default when setting configuration values, but for reading `git config` will read all configuration files and merge them (local overrides global, which in turn overrides system)\n",
    "\n",
    ":::"
   ]
  },
  {
   "cell_type": "code",
   "execution_count": null,
   "id": "9",
   "metadata": {},
   "outputs": [],
   "source": [
    "cat .git/config"
   ]
  },
  {
   "cell_type": "code",
   "execution_count": null,
   "id": "10",
   "metadata": {},
   "outputs": [],
   "source": [
    "git config --local --get-regexp 'user.'"
   ]
  },
  {
   "cell_type": "code",
   "execution_count": null,
   "id": "11",
   "metadata": {},
   "outputs": [],
   "source": [
    "git config user.name \"The user's name\"\n",
    "git config user.email \"user@example.com\""
   ]
  },
  {
   "cell_type": "code",
   "execution_count": null,
   "id": "12",
   "metadata": {},
   "outputs": [],
   "source": [
    "git config --local --get-regexp 'user.'"
   ]
  },
  {
   "cell_type": "code",
   "execution_count": null,
   "id": "13",
   "metadata": {},
   "outputs": [],
   "source": [
    "cat .git/config"
   ]
  },
  {
   "cell_type": "markdown",
   "id": "14",
   "metadata": {},
   "source": [
    "## commits\n",
    "\n",
    "git remembers changes to files (be that creating, modifying, or deleting) in the form of commits. To see the components of a commit, see [this section](#commit-contents).\n",
    "\n",
    "A newly created repository will not have any commits at all, which we can verify by running `git status`:"
   ]
  },
  {
   "cell_type": "code",
   "execution_count": null,
   "id": "15",
   "metadata": {},
   "outputs": [],
   "source": [
    "git status"
   ]
  },
  {
   "cell_type": "markdown",
   "id": "16",
   "metadata": {},
   "source": [
    "Use this every time you're not sure about the state of the repository."
   ]
  },
  {
   "attachments": {},
   "cell_type": "markdown",
   "id": "17",
   "metadata": {},
   "source": [
    "### creating commits and the staging area\n",
    "\n",
    "git calls the visible directory the \"workdir\", and that's where we make changes using `jupyter lab` or text editors.\n",
    "\n",
    "We can select changes to commit using `git add`, which will add the changes to the staging area. This allows us to use multiple calls to `git add` until we're content with the changes to commit. If there's anything we want to remove, we can do so using `git rm --cached`. Once we're happy with the changes in the staging area, we can commit them using `git commit`.\n",
    "\n",
    "You can see the relationship between workdir, stage, and commits here:\n",
    "```mermaid\n",
    "graph LR\n",
    "    A((workdir)) -- git add --> B((stage))\n",
    "    B -- git rm --> A\n",
    "    B -- git commit --> C((commit))\n",
    "    C -- git reset --> B\n",
    "```"
   ]
  },
  {
   "cell_type": "markdown",
   "id": "18",
   "metadata": {},
   "source": [
    "Let's start by creating two files:"
   ]
  },
  {
   "cell_type": "code",
   "execution_count": null,
   "id": "19",
   "metadata": {},
   "outputs": [],
   "source": [
    "echo \"a\" > file1\n",
    "echo \"b\" > file2\n",
    "git status"
   ]
  },
  {
   "cell_type": "markdown",
   "id": "20",
   "metadata": {},
   "source": [
    "git tells us that there are 2 untracked files, and helpfully advises to use `git add` to track the files. Let's start with one of the files:"
   ]
  },
  {
   "cell_type": "code",
   "execution_count": null,
   "id": "21",
   "metadata": {},
   "outputs": [],
   "source": [
    "git add file1\n",
    "git status"
   ]
  },
  {
   "cell_type": "markdown",
   "id": "22",
   "metadata": {},
   "source": [
    "we can look at the changes using `git diff`:"
   ]
  },
  {
   "cell_type": "code",
   "execution_count": null,
   "id": "23",
   "metadata": {},
   "outputs": [],
   "source": [
    "git diff --staged  # for changes in the staging area"
   ]
  },
  {
   "cell_type": "markdown",
   "id": "24",
   "metadata": {},
   "source": [
    "This is called a \"unified patch\", a text format that encodes changes between files. The most important bits are:\n",
    "- we compare the first version (a) of `file1` with a second version (b) of `file1`\n",
    "- `/dev/null` is a marker for \"does not exist\"\n",
    "- at line 0, we insert a line containing `a`"
   ]
  },
  {
   "cell_type": "markdown",
   "id": "25",
   "metadata": {},
   "source": [
    ":::{note}\n",
    "`git diff` doesn't print any changes in the workdir, even though `file2` is marked in red. The reason for that is that `git diff` only shows the changes of tracked files. Since file2 is not tracked yet, `git` doesn't consider it. Files added to the staging area count as \"tracked\", so we can modify `file1` to see the workdir changes:\n",
    ":::"
   ]
  },
  {
   "cell_type": "code",
   "execution_count": null,
   "id": "26",
   "metadata": {},
   "outputs": [],
   "source": [
    "git diff  # for changes in the workdir"
   ]
  },
  {
   "cell_type": "markdown",
   "id": "27",
   "metadata": {},
   "source": [
    "Instead, let's try changing the tracked `file1`:"
   ]
  },
  {
   "cell_type": "code",
   "execution_count": null,
   "id": "28",
   "metadata": {},
   "outputs": [],
   "source": [
    "echo \"c\" >> file1\n",
    "git diff"
   ]
  },
  {
   "cell_type": "markdown",
   "id": "29",
   "metadata": {},
   "source": [
    "Let's look again at the state of the repository:"
   ]
  },
  {
   "cell_type": "code",
   "execution_count": null,
   "id": "30",
   "metadata": {},
   "outputs": [],
   "source": [
    "git status"
   ]
  },
  {
   "cell_type": "markdown",
   "id": "31",
   "metadata": {},
   "source": [
    "We don't want to keep the new changes to `file1`, so as `git` suggests, let's use `git restore`:"
   ]
  },
  {
   "cell_type": "code",
   "execution_count": null,
   "id": "32",
   "metadata": {},
   "outputs": [],
   "source": [
    "git restore file1"
   ]
  },
  {
   "cell_type": "code",
   "execution_count": null,
   "id": "33",
   "metadata": {},
   "outputs": [],
   "source": [
    "git status"
   ]
  },
  {
   "cell_type": "markdown",
   "id": "34",
   "metadata": {},
   "source": [
    "We do want to track `file2`, though, so let's add that, as well:"
   ]
  },
  {
   "cell_type": "code",
   "execution_count": null,
   "id": "35",
   "metadata": {},
   "outputs": [],
   "source": [
    "git add file2\n",
    "git status"
   ]
  },
  {
   "cell_type": "markdown",
   "id": "36",
   "metadata": {},
   "source": [
    "If we're happy, we can commit:\n",
    ":::{note}\n",
    "If we don't add `-m <message>`, this would usually open an editor, which doesn't work too well in a notebook.\n",
    ":::"
   ]
  },
  {
   "cell_type": "code",
   "execution_count": null,
   "id": "37",
   "metadata": {},
   "outputs": [],
   "source": [
    "git commit -m \"first commit\""
   ]
  },
  {
   "cell_type": "code",
   "execution_count": null,
   "id": "38",
   "metadata": {},
   "outputs": [],
   "source": [
    "git status"
   ]
  },
  {
   "cell_type": "markdown",
   "id": "39",
   "metadata": {},
   "source": [
    "### commit contents"
   ]
  },
  {
   "cell_type": "markdown",
   "id": "40",
   "metadata": {},
   "source": [
    "Commits were originally built on emails (people used to mail around diffs), so they consist of:\n",
    "- the creation time\n",
    "- the author (the user first creating this changeset) in the form of `User <email-address>`\n",
    "- the time of last modification\n",
    "- the committer (the user who last modified the commit) in the form `User <email-address>`\n",
    "- the hash value of one or two parents\n",
    "- the commit message\n",
    "- the changeset in the form of a diff (a text representation of the changes)\n",
    "- a hash of all that information as a unique id (the current commit's id)"
   ]
  },
  {
   "attachments": {},
   "cell_type": "markdown",
   "id": "41",
   "metadata": {},
   "source": [
    "#### The commit message\n",
    "\n",
    "By convention, the commit message consists of:\n",
    "- a one-line summary of the changes within the commit (the recommendation is to keep that below ~70 characters)\n",
    "- optionally more text separated from the summary by a blank line"
   ]
  },
  {
   "attachments": {},
   "cell_type": "markdown",
   "id": "42",
   "metadata": {},
   "source": [
    "## inspecting the history of changes\n",
    "\n",
    "With at least one commit in the repository, we can look at the history of commits using `git log`:"
   ]
  },
  {
   "cell_type": "code",
   "execution_count": null,
   "id": "43",
   "metadata": {},
   "outputs": [],
   "source": [
    "git log"
   ]
  },
  {
   "cell_type": "markdown",
   "id": "44",
   "metadata": {},
   "source": [
    "Let's try creating a few other commits:"
   ]
  },
  {
   "cell_type": "code",
   "execution_count": null,
   "id": "45",
   "metadata": {},
   "outputs": [],
   "source": [
    "for i in {1..10}; do\n",
    "    echo \"$i\" > file3\n",
    "    git add file3\n",
    "    git commit -m \"${i}th change to file3\"\n",
    "done"
   ]
  },
  {
   "cell_type": "code",
   "execution_count": null,
   "id": "46",
   "metadata": {},
   "outputs": [],
   "source": [
    "git status"
   ]
  },
  {
   "cell_type": "code",
   "execution_count": null,
   "id": "47",
   "metadata": {},
   "outputs": [],
   "source": [
    "git log"
   ]
  },
  {
   "cell_type": "markdown",
   "id": "48",
   "metadata": {},
   "source": [
    "To see the changes of one commit, we can use `git show`:"
   ]
  },
  {
   "cell_type": "code",
   "execution_count": null,
   "id": "49",
   "metadata": {},
   "outputs": [],
   "source": [
    "git show -p"
   ]
  },
  {
   "cell_type": "markdown",
   "id": "50",
   "metadata": {},
   "source": [
    "To see all changes, we can use `git log`:"
   ]
  },
  {
   "cell_type": "code",
   "execution_count": null,
   "id": "51",
   "metadata": {},
   "outputs": [],
   "source": [
    "git log -p"
   ]
  },
  {
   "cell_type": "markdown",
   "id": "52",
   "metadata": {},
   "source": [
    "## Trying multiple things at the same time: branches\n",
    "\n",
    "When working on one thing there might be something popping up that needs immediate attention, or we run out of steam / into a road block on one feature and would like to postpone until that has been resolved, or we might have someone else working on the same project.\n",
    "\n",
    "`git` has a feature called `branch` that allows \"branching out\" from a commit and keep multiple chains of commits. For example:\n",
    "```mermaid\n",
    "gitGraph\n",
    "    commit\n",
    "    commit\n",
    "    branch feature-branch\n",
    "    commit\n",
    "    commit\n",
    "    commit\n",
    "    checkout main\n",
    "    commit\n",
    "    checkout feature-branch\n",
    "    commit\n",
    "    commit\n",
    "    checkout main\n",
    "    merge feature-branch\n",
    "    commit\n",
    "```\n",
    "In this case, we start at commit 0, and create commit 1. Then we branch out into branch \"feature-branch\" and create two more commits. After that, we go back to the original branch (commonly \"main\") and create a new commit there, then add two more commit to \"feature-branch\". Finally, we merge \"feature-branch\" back into \"main\" and create a new commit afterwards.\n",
    "\n",
    "The commands we can use for this are:\n",
    "\n",
    "- `git branch` to create or interrogate branches\n",
    "- `git switch` and `git checkout` to switch between branches / commits\n",
    "- `git merge` to merge branches"
   ]
  },
  {
   "cell_type": "markdown",
   "id": "53",
   "metadata": {},
   "source": [
    "### Creating, manipulating or interrogating branches\n",
    "\n",
    "We can create a new branch using `git branch <name>`:"
   ]
  },
  {
   "cell_type": "code",
   "execution_count": null,
   "id": "54",
   "metadata": {},
   "outputs": [],
   "source": [
    "git status"
   ]
  },
  {
   "cell_type": "code",
   "execution_count": null,
   "id": "55",
   "metadata": {},
   "outputs": [],
   "source": [
    "git log --oneline --graph"
   ]
  },
  {
   "cell_type": "code",
   "execution_count": null,
   "id": "56",
   "metadata": {},
   "outputs": [],
   "source": [
    "git branch feature-branch"
   ]
  },
  {
   "cell_type": "code",
   "execution_count": null,
   "id": "57",
   "metadata": {},
   "outputs": [],
   "source": [
    "git status"
   ]
  },
  {
   "cell_type": "markdown",
   "id": "58",
   "metadata": {},
   "source": [
    "To then work on the branch, we have to switch to it:"
   ]
  },
  {
   "cell_type": "code",
   "execution_count": null,
   "id": "59",
   "metadata": {},
   "outputs": [],
   "source": [
    "git switch feature-branch"
   ]
  },
  {
   "cell_type": "code",
   "execution_count": null,
   "id": "60",
   "metadata": {},
   "outputs": [],
   "source": [
    "git status"
   ]
  },
  {
   "cell_type": "markdown",
   "id": "61",
   "metadata": {},
   "source": [
    "We can then add a few more commits:"
   ]
  },
  {
   "cell_type": "code",
   "execution_count": null,
   "id": "62",
   "metadata": {},
   "outputs": [],
   "source": [
    "echo \"1\" > file1; git add file1; git commit -m \"branch commit 1\"\n",
    "echo \"2\" > file1; git add file1; git commit -m \"branch commit 2\""
   ]
  },
  {
   "cell_type": "code",
   "execution_count": null,
   "id": "63",
   "metadata": {},
   "outputs": [],
   "source": [
    "git status"
   ]
  },
  {
   "cell_type": "code",
   "execution_count": null,
   "id": "64",
   "metadata": {},
   "outputs": [],
   "source": [
    "git log --oneline --graph"
   ]
  },
  {
   "cell_type": "markdown",
   "id": "65",
   "metadata": {},
   "source": [
    "We can look at the existing branches (the one marked with a `*` is the current branch):"
   ]
  },
  {
   "cell_type": "code",
   "execution_count": null,
   "id": "66",
   "metadata": {},
   "outputs": [],
   "source": [
    "git branch"
   ]
  },
  {
   "cell_type": "markdown",
   "id": "67",
   "metadata": {},
   "source": [
    "For more information, add `-v`, and to include remote branches as well, use `-a` (together: `-av`)."
   ]
  },
  {
   "cell_type": "markdown",
   "id": "68",
   "metadata": {},
   "source": [
    "`git log` can take the branch (or the commit hash / tag) to display the log of a commit that is not currently checked out:"
   ]
  },
  {
   "cell_type": "code",
   "execution_count": null,
   "id": "69",
   "metadata": {},
   "outputs": [],
   "source": [
    "git log --oneline --graph feature-branch"
   ]
  },
  {
   "cell_type": "markdown",
   "id": "70",
   "metadata": {},
   "source": [
    "To delete branches, use `git branch -d` (or `-D` to avoid `git`'s safety checks):"
   ]
  },
  {
   "cell_type": "code",
   "execution_count": null,
   "id": "71",
   "metadata": {},
   "outputs": [],
   "source": [
    "git branch feature2\n",
    "git branch\n",
    "git status\n",
    "git branch -d feature2"
   ]
  },
  {
   "cell_type": "code",
   "execution_count": null,
   "id": "72",
   "metadata": {},
   "outputs": [],
   "source": [
    "git branch"
   ]
  },
  {
   "cell_type": "code",
   "execution_count": null,
   "id": "73",
   "metadata": {},
   "outputs": [],
   "source": [
    "git branch feature2\n",
    "git switch feature2\n",
    "git branch -d feature2"
   ]
  },
  {
   "cell_type": "markdown",
   "id": "74",
   "metadata": {},
   "source": [
    "### Merging branches\n",
    "\n",
    "The operation of joining branches back together is called \"merging\". There are three different ways of merges:\n",
    "- fast-forward merge\n",
    "- squash-merges\n",
    "- normal merges\n",
    "\n",
    "The latter two may see merge conflicts we have to resolve before completing the merge."
   ]
  },
  {
   "cell_type": "code",
   "execution_count": null,
   "id": "75",
   "metadata": {},
   "outputs": [],
   "source": [
    "git switch main\n",
    "export current_main=$(git show -q --pretty=format:%H main)\n",
    "echo $current_main"
   ]
  },
  {
   "cell_type": "markdown",
   "id": "76",
   "metadata": {},
   "source": [
    "#### Fast-forward merge\n",
    "\n",
    "For this kind of merge we simply move the current branch to the last commit on the merged branch.\n",
    "\n",
    ":::{note}\n",
    "This is only possible if the two branches only differ by the commits on the merged branch.\n",
    ":::\n",
    "\n",
    ":::::{grid} 1 1 2 3\n",
    "::::{card}\n",
    "---\n",
    "header: Before the merge\n",
    "---\n",
    ":::{mermaid}\n",
    "gitGraph\n",
    "    commit id: \"0-a1cbbe0\"\n",
    "    branch feature-branch\n",
    "    commit id: \"1-ac3d30a\"\n",
    "    commit id: \"2-4db5765\"\n",
    "    commit id: \"3-4488b52\"\n",
    ":::\n",
    "::::\n",
    "::::{card}\n",
    "---\n",
    "header: After the merge\n",
    "---\n",
    ":::{mermaid}\n",
    "gitGraph\n",
    "    commit id: \"0-a1cbbe0\"\n",
    "    commit id: \"1-ac3d30a\"\n",
    "    commit id: \"2-4db5765\"\n",
    "    commit id: \"3-4488b52\"\n",
    ":::\n",
    "::::\n",
    ":::::"
   ]
  },
  {
   "cell_type": "code",
   "execution_count": null,
   "id": "77",
   "metadata": {},
   "outputs": [],
   "source": [
    "git merge --ff feature-branch"
   ]
  },
  {
   "cell_type": "code",
   "execution_count": null,
   "id": "78",
   "metadata": {},
   "outputs": [],
   "source": [
    "git log --oneline --graph"
   ]
  },
  {
   "cell_type": "code",
   "execution_count": null,
   "id": "79",
   "metadata": {},
   "outputs": [],
   "source": [
    "git reset --hard $current_main"
   ]
  },
  {
   "cell_type": "markdown",
   "id": "80",
   "metadata": {},
   "source": [
    "#### Squash merge\n",
    "\n",
    "For this kind of merge, we combine the commits of the merged branch into a single commit and add it to the current branch.\n",
    "\n",
    ":::::{grid} 1 1 2 3\n",
    "::::{card}\n",
    "---\n",
    "header: Before the merge\n",
    "---\n",
    ":::{mermaid}\n",
    "gitGraph\n",
    "    commit id: \"0-a1cbbe0\"\n",
    "    branch feature-branch\n",
    "    commit id: \"1-ac3d30a\"\n",
    "    commit id: \"2-4db5765\"\n",
    "    commit id: \"3-4488b52\"\n",
    ":::\n",
    "::::\n",
    "::::{card}\n",
    "---\n",
    "header: After the merge\n",
    "---\n",
    ":::{mermaid}\n",
    "gitGraph\n",
    "    commit id: \"0-a1cbbe0\"\n",
    "    commit id: \"1-9e45b8f\"\n",
    ":::\n",
    "::::\n",
    ":::::"
   ]
  },
  {
   "cell_type": "code",
   "execution_count": null,
   "id": "81",
   "metadata": {},
   "outputs": [],
   "source": [
    "git merge --squash feature-branch\n",
    "git commit -m \"squashed feature\""
   ]
  },
  {
   "cell_type": "code",
   "execution_count": null,
   "id": "82",
   "metadata": {},
   "outputs": [],
   "source": [
    "git log --oneline --graph"
   ]
  },
  {
   "cell_type": "code",
   "execution_count": null,
   "id": "83",
   "metadata": {},
   "outputs": [],
   "source": [
    "git show -p"
   ]
  },
  {
   "cell_type": "code",
   "execution_count": null,
   "id": "84",
   "metadata": {},
   "outputs": [],
   "source": [
    "git reset --hard $current_main"
   ]
  },
  {
   "cell_type": "markdown",
   "id": "85",
   "metadata": {},
   "source": [
    "#### Standard merge\n",
    "\n",
    "If we want to keep the history of commits, and there are commits on the branch we merge into (`main`), we have no choice but to create a special merge commit: a commit with two parents, the last commit of both branches that are involved.\n",
    "\n",
    ":::::{grid} 1 1 2 3\n",
    "::::{card}\n",
    "---\n",
    "header: Before the merge\n",
    "---\n",
    ":::{mermaid}\n",
    "gitGraph\n",
    "    commit id: \"0-a1cbbe0\"\n",
    "    branch feature-branch\n",
    "    commit id: \"1-ac3d30a\"\n",
    "    commit id: \"2-4db5765\"\n",
    "    checkout main\n",
    "    commit id: \"3-4a1aba1\"\n",
    "    commit id: \"4-3bcb400\"\n",
    "    checkout feature-branch\n",
    "    commit id: \"5-4488b52\"\n",
    "    checkout main\n",
    ":::\n",
    "::::\n",
    "::::{card}\n",
    "---\n",
    "header: After the merge\n",
    "---\n",
    ":::{mermaid}\n",
    "gitGraph\n",
    "    commit id: \"0-a1cbbe0\"\n",
    "    branch feature-branch\n",
    "    commit id: \"1-ac3d30a\"\n",
    "    commit id: \"2-4db5765\"\n",
    "    checkout main\n",
    "    commit id: \"3-4a1aba1\"\n",
    "    commit id: \"4-3bcb400\"\n",
    "    checkout feature-branch\n",
    "    commit id: \"5-4488b52\"\n",
    "    checkout main\n",
    "    merge feature-branch\n",
    ":::\n",
    "::::\n",
    ":::::\n",
    "\n",
    "In this case, the merge commit has the parents `5-4488b52` (the latest commit on `feature-branch`) and `4-3bcb400` (the latest commit on `main`)."
   ]
  },
  {
   "cell_type": "code",
   "execution_count": null,
   "id": "86",
   "metadata": {},
   "outputs": [],
   "source": [
    "# empty commit for demonstration purposes\n",
    "git commit --allow-empty -m \"empty commit\""
   ]
  },
  {
   "cell_type": "code",
   "execution_count": null,
   "id": "87",
   "metadata": {},
   "outputs": [],
   "source": [
    "git merge feature-branch -m \"Merge commit\"  # will open an editor without `-m`, which does not work in `jupyterlab`"
   ]
  },
  {
   "cell_type": "code",
   "execution_count": null,
   "id": "88",
   "metadata": {},
   "outputs": [],
   "source": [
    "git log --oneline"
   ]
  },
  {
   "cell_type": "code",
   "execution_count": null,
   "id": "89",
   "metadata": {},
   "outputs": [],
   "source": [
    "git log --oneline --graph"
   ]
  },
  {
   "cell_type": "code",
   "execution_count": null,
   "id": "90",
   "metadata": {},
   "outputs": [],
   "source": [
    "git reset --hard $current_main"
   ]
  },
  {
   "cell_type": "markdown",
   "id": "91",
   "metadata": {},
   "source": [
    "### Merge conflicts\n",
    "\n",
    "If both branches changed the same areas within the files, the merging algorithm won't know how combine the changes and will create \"merge conflict\" markers within the files."
   ]
  },
  {
   "cell_type": "code",
   "execution_count": null,
   "id": "92",
   "metadata": {},
   "outputs": [],
   "source": [
    "echo \"0\" > file1; git add file1; git commit -m \"commit 0\"  # to create a conflict"
   ]
  },
  {
   "cell_type": "code",
   "execution_count": null,
   "id": "93",
   "metadata": {},
   "outputs": [],
   "source": [
    "git merge feature-branch"
   ]
  },
  {
   "cell_type": "code",
   "execution_count": null,
   "id": "94",
   "metadata": {},
   "outputs": [],
   "source": [
    "git status"
   ]
  },
  {
   "cell_type": "code",
   "execution_count": null,
   "id": "95",
   "metadata": {},
   "outputs": [],
   "source": [
    "git diff"
   ]
  },
  {
   "cell_type": "code",
   "execution_count": null,
   "id": "96",
   "metadata": {},
   "outputs": [],
   "source": [
    "# resolve the conflict (edit / remove conflict markers + add to staging area)\n",
    "echo \"-1\" > file1; git add file1"
   ]
  },
  {
   "cell_type": "code",
   "execution_count": null,
   "id": "97",
   "metadata": {},
   "outputs": [],
   "source": [
    "git status"
   ]
  },
  {
   "cell_type": "code",
   "execution_count": null,
   "id": "98",
   "metadata": {},
   "outputs": [],
   "source": [
    "# or git merge --continue\n",
    "git commit -m \"merge commit\" # same here: avoid opening the editor"
   ]
  },
  {
   "cell_type": "code",
   "execution_count": null,
   "id": "99",
   "metadata": {},
   "outputs": [],
   "source": [
    "git log --oneline --graph"
   ]
  },
  {
   "cell_type": "code",
   "execution_count": null,
   "id": "100",
   "metadata": {},
   "outputs": [],
   "source": [
    "git reset --hard $current_main"
   ]
  },
  {
   "cell_type": "markdown",
   "id": "101",
   "metadata": {},
   "source": [
    "## github / gitlab workflow\n",
    "\n",
    "The current two main software forges, `github` and `gitlab`, promote a workflow where changes are proposed by:\n",
    "- creating personal (but publicly readable) copies of repositories (\"forks\")\n",
    "- pushing a branch containing the proposed changes to the fork\n",
    "- creating a \"request for changes\". github calls this Pull Request (PR), while gitlab calls it Merge Request (MR)\n",
    "\n",
    "For both, we need to\n",
    "- create the fork\n",
    "- setup access (ssh, https + token)\n",
    "- connect the local git repositories to remote copies (git: `remote`), most importantly the main repository and the personal fork"
   ]
  },
  {
   "cell_type": "markdown",
   "id": "102",
   "metadata": {},
   "source": [
    "### Setup\n",
    "\n",
    "#### github\n",
    "- [create an SSH key](https://docs.github.com/en/authentication/connecting-to-github-with-ssh/generating-a-new-ssh-key-and-adding-it-to-the-ssh-agent) (once per machine):\n",
    "  :::{code-block} bash\n",
    "  ssh-keygen -t ed25519 -f ~/.ssh/github\n",
    "  :::\n",
    "- [register the new SSH key](https://docs.github.com/en/authentication/connecting-to-github-with-ssh/adding-a-new-ssh-key-to-your-github-account)\n",
    "- use `git@github.com` urls as remotes\n",
    "\n",
    "Full tutorial: https://docs.github.com/en/get-started/start-your-journey/hello-world\n",
    "\n",
    "#### gitlab\n",
    "\n",
    ":::{note}\n",
    "Some privately hosted gitlab instances (like https://gitlab.ifremer.fr) don't support authentication with SSH. In that case, we have to go with token authentication.\n",
    ":::"
   ]
  }
 ],
 "metadata": {
  "language_info": {
   "codemirror_mode": "shell",
   "file_extension": ".sh",
   "mimetype": "text/x-sh",
   "name": "bash"
  }
 },
 "nbformat": 4,
 "nbformat_minor": 5
}
